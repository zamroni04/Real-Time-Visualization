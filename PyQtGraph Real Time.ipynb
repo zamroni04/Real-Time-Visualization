{
 "cells": [
  {
   "cell_type": "code",
   "execution_count": 1,
   "metadata": {},
   "outputs": [
    {
     "ename": "SystemExit",
     "evalue": "0",
     "output_type": "error",
     "traceback": [
      "An exception has occurred, use %tb to see the full traceback.\n",
      "\u001b[1;31mSystemExit\u001b[0m\u001b[1;31m:\u001b[0m 0\n"
     ]
    },
    {
     "name": "stderr",
     "output_type": "stream",
     "text": [
      "C:\\Users\\Ilyas_\\Anaconda3\\lib\\site-packages\\IPython\\core\\interactiveshell.py:3426: UserWarning: To exit: use 'exit', 'quit', or Ctrl-D.\n",
      "  warn(\"To exit: use 'exit', 'quit', or Ctrl-D.\", stacklevel=1)\n"
     ]
    }
   ],
   "source": [
    "# https://github.com/pyqtgraph/pyqtgraph\n",
    "\n",
    "from PyQt5 import QtWidgets, QtCore\n",
    "from pyqtgraph import PlotWidget, plot\n",
    "import pyqtgraph as pg\n",
    "import sys  # We need sys so that we can pass argv to QApplication\n",
    "import os\n",
    "from random import randint\n",
    "\n",
    "class MainWindow(QtWidgets.QMainWindow):\n",
    "\n",
    "    def __init__(self, *args, **kwargs):\n",
    "        super(MainWindow, self).__init__(*args, **kwargs)\n",
    "\n",
    "        self.graphWidget = pg.PlotWidget()\n",
    "        self.setCentralWidget(self.graphWidget)\n",
    "\n",
    "        self.x = list(range(100))  # 100 time points\n",
    "        self.y = [randint(0,100) for _ in range(100)]  # 100 data points\n",
    "        \n",
    "        self.graphWidget.setBackground('w')\n",
    "\n",
    "        pen = pg.mkPen(color=(255, 0, 0))\n",
    "        self.data_line =  self.graphWidget.plot(self.x, self.y, pen=pen)\n",
    "        \n",
    "        # ... init continued ...\n",
    "        self.timer = QtCore.QTimer()\n",
    "        self.timer.setInterval(50)\n",
    "        self.timer.timeout.connect(self.update_plot_data)\n",
    "        self.timer.start()\n",
    "    \n",
    "    def update_plot_data(self):\n",
    "        self.x = self.x[1:]  # Remove the first y element.\n",
    "        self.x.append(self.x[-1] + 1)  # Add a new value 1 higher than the last.\n",
    "\n",
    "        self.y = self.y[1:]  # Remove the first \n",
    "        self.y.append(randint(0,100))  # Add a new random value.\n",
    "\n",
    "        self.data_line.setData(self.x, self.y)  # Update the data.\n",
    "\n",
    "\n",
    "app = QtWidgets.QApplication(sys.argv)\n",
    "w = MainWindow()\n",
    "w.show()\n",
    "sys.exit(app.exec_())"
   ]
  },
  {
   "cell_type": "code",
   "execution_count": 2,
   "metadata": {},
   "outputs": [],
   "source": [
    "import time\n",
    "import random\n",
    "import pyqtgraph as pg\n",
    "from collections import deque\n",
    "from pyqtgraph.Qt import QtGui, QtCore\n",
    "\n",
    "class Graph:\n",
    "    def __init__(self, ):\n",
    "        self.dat = deque()\n",
    "        self.maxLen = 50#max number of data points to show on graph\n",
    "        self.app = QtGui.QApplication([])\n",
    "        self.win = pg.GraphicsWindow()\n",
    "       \n",
    "        self.p1 = self.win.addPlot(colspan=2)\n",
    "        self.win.nextRow()\n",
    "        self.p2 = self.win.addPlot(colspan=2)\n",
    "        self.win.nextRow()\n",
    "        self.p3 = self.win.addPlot(colspan=2)\n",
    "       \n",
    "        self.curve1 = self.p1.plot()\n",
    "        self.curve2 = self.p2.plot()\n",
    "        self.curve3 = self.p3.plot()\n",
    "       \n",
    "        graphUpdateSpeedMs = 50\n",
    "        timer = QtCore.QTimer()#to create a thread that calls a function at intervals\n",
    "        timer.timeout.connect(self.update)#the update function keeps getting called at intervals\n",
    "        timer.start(graphUpdateSpeedMs)   \n",
    "        QtGui.QApplication.instance().exec_()\n",
    "       \n",
    "    def update(self):\n",
    "        if len(self.dat) > self.maxLen:\n",
    "            self.dat.popleft() #remove oldest\n",
    "        self.dat.append(random.randint(0,100)); \n",
    "\n",
    "        self.curve1.setData(self.dat)\n",
    "        self.curve2.setData(self.dat)\n",
    "        self.curve3.setData(self.dat)\n",
    "        self.app.processEvents()  \n",
    "       \n",
    "\n",
    "if __name__ == '__main__':\n",
    "    g = Graph()"
   ]
  },
  {
   "cell_type": "code",
   "execution_count": null,
   "metadata": {},
   "outputs": [],
   "source": []
  }
 ],
 "metadata": {
  "kernelspec": {
   "display_name": "Python 3",
   "language": "python",
   "name": "python3"
  },
  "language_info": {
   "codemirror_mode": {
    "name": "ipython",
    "version": 3
   },
   "file_extension": ".py",
   "mimetype": "text/x-python",
   "name": "python",
   "nbconvert_exporter": "python",
   "pygments_lexer": "ipython3",
   "version": "3.7.3"
  }
 },
 "nbformat": 4,
 "nbformat_minor": 4
}
